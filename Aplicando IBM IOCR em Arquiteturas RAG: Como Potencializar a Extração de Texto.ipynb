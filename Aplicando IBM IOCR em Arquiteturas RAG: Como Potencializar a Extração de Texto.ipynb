{
  "cells": [
    {
      "cell_type": "markdown",
      "id": "644d3991-380d-4816-a3fc-c2e816b1e6f0",
      "metadata": {},
      "source": [
        "# Aplicando IBM IOCR em Arquiteturas RAG: Como Potencializar a Extração de Texto"
      ]
    },
    {
      "cell_type": "markdown",
      "id": "5a0d62d7-df0e-45e2-a697-722ea06d90af",
      "metadata": {},
      "source": [
        "### Instalação dos pacotes necessários para a execução do código"
      ]
    },
    {
      "cell_type": "code",
      "execution_count": 1,
      "id": "18cb073e-e467-40e2-ba35-cf01d8110932",
      "metadata": {},
      "outputs": [
        {
          "name": "stdout",
          "output_type": "stream",
          "text": [
            "\n",
            "\u001b[1m[\u001b[0m\u001b[34;49mnotice\u001b[0m\u001b[1;39;49m]\u001b[0m\u001b[39;49m A new release of pip is available: \u001b[0m\u001b[31;49m24.0\u001b[0m\u001b[39;49m -> \u001b[0m\u001b[32;49m25.1.1\u001b[0m\n",
            "\u001b[1m[\u001b[0m\u001b[34;49mnotice\u001b[0m\u001b[1;39;49m]\u001b[0m\u001b[39;49m To update, run: \u001b[0m\u001b[32;49mpip install --upgrade pip\u001b[0m\n",
            "Note: you may need to restart the kernel to use updated packages.\n"
          ]
        }
      ],
      "source": [
        "pip install ibm-watsonx-ai==1.1.5 -q"
      ]
    },
    {
      "cell_type": "code",
      "execution_count": 2,
      "id": "f54c74dc-cd18-4177-a737-5388d976edba",
      "metadata": {},
      "outputs": [
        {
          "name": "stdout",
          "output_type": "stream",
          "text": [
            "\n",
            "\u001b[1m[\u001b[0m\u001b[34;49mnotice\u001b[0m\u001b[1;39;49m]\u001b[0m\u001b[39;49m A new release of pip is available: \u001b[0m\u001b[31;49m24.0\u001b[0m\u001b[39;49m -> \u001b[0m\u001b[32;49m25.1.1\u001b[0m\n",
            "\u001b[1m[\u001b[0m\u001b[34;49mnotice\u001b[0m\u001b[1;39;49m]\u001b[0m\u001b[39;49m To update, run: \u001b[0m\u001b[32;49mpip install --upgrade pip\u001b[0m\n",
            "Note: you may need to restart the kernel to use updated packages.\n"
          ]
        }
      ],
      "source": [
        "pip install ibm-cos-sdk==2.12.0 -q"
      ]
    },
    {
      "cell_type": "code",
      "execution_count": 3,
      "id": "58afe945-2010-4aeb-808b-589cdc25daa6",
      "metadata": {},
      "outputs": [
        {
          "name": "stdout",
          "output_type": "stream",
          "text": [
            "\n",
            "\u001b[1m[\u001b[0m\u001b[34;49mnotice\u001b[0m\u001b[1;39;49m]\u001b[0m\u001b[39;49m A new release of pip is available: \u001b[0m\u001b[31;49m24.0\u001b[0m\u001b[39;49m -> \u001b[0m\u001b[32;49m25.1.1\u001b[0m\n",
            "\u001b[1m[\u001b[0m\u001b[34;49mnotice\u001b[0m\u001b[1;39;49m]\u001b[0m\u001b[39;49m To update, run: \u001b[0m\u001b[32;49mpip install --upgrade pip\u001b[0m\n",
            "Note: you may need to restart the kernel to use updated packages.\n"
          ]
        }
      ],
      "source": [
        "pip install ibm_watson_machine_learning -q"
      ]
    },
    {
      "cell_type": "code",
      "execution_count": 4,
      "id": "f4662583-f3cb-4421-b6d1-2459b6842373",
      "metadata": {},
      "outputs": [
        {
          "name": "stdout",
          "output_type": "stream",
          "text": [
            "\n",
            "\u001b[1m[\u001b[0m\u001b[34;49mnotice\u001b[0m\u001b[1;39;49m]\u001b[0m\u001b[39;49m A new release of pip is available: \u001b[0m\u001b[31;49m24.0\u001b[0m\u001b[39;49m -> \u001b[0m\u001b[32;49m25.1.1\u001b[0m\n",
            "\u001b[1m[\u001b[0m\u001b[34;49mnotice\u001b[0m\u001b[1;39;49m]\u001b[0m\u001b[39;49m To update, run: \u001b[0m\u001b[32;49mpip install --upgrade pip\u001b[0m\n",
            "Note: you may need to restart the kernel to use updated packages.\n"
          ]
        }
      ],
      "source": [
        "pip install python-dotenv -q"
      ]
    },
    {
      "cell_type": "code",
      "execution_count": 5,
      "id": "f4c11d6c-3229-4121-9677-6d93b1e8cb14",
      "metadata": {},
      "outputs": [
        {
          "name": "stdout",
          "output_type": "stream",
          "text": [
            "\n",
            "\u001b[1m[\u001b[0m\u001b[34;49mnotice\u001b[0m\u001b[1;39;49m]\u001b[0m\u001b[39;49m A new release of pip is available: \u001b[0m\u001b[31;49m24.0\u001b[0m\u001b[39;49m -> \u001b[0m\u001b[32;49m25.1.1\u001b[0m\n",
            "\u001b[1m[\u001b[0m\u001b[34;49mnotice\u001b[0m\u001b[1;39;49m]\u001b[0m\u001b[39;49m To update, run: \u001b[0m\u001b[32;49mpip install --upgrade pip\u001b[0m\n",
            "Note: you may need to restart the kernel to use updated packages.\n"
          ]
        }
      ],
      "source": [
        "pip install pytesseract -q"
      ]
    },
    {
      "cell_type": "markdown",
      "metadata": {},
      "source": [
        "### Configuração das variáveis de ambiente"
      ]
    },
    {
      "cell_type": "markdown",
      "metadata": {},
      "source": [
        "Antes de prosseguir, configure as variáveis de ambiente criando um arquivo .env no mesmo diretório de execução do notebook"
      ]
    },
    {
      "cell_type": "markdown",
      "metadata": {},
      "source": [
        "#### PATH_IMAGE: caminho do diretório da sua imagem\n"
      ]
    },
    {
      "cell_type": "markdown",
      "metadata": {},
      "source": [
        "#### WATSONX_API_KEY: API KEY da IBM Cloud, pode ser obtida conforme o passo a passo abaixo:"
      ]
    },
    {
     "cell_type": "markdown",
     "metadata": {},
     "source": [
      "<img src=\"images/apikey_1.png\" alt=\"wxd-1\"  />"
     ]
    },
    {
      "cell_type": "markdown",
      "metadata": {},
      "source": [
        "<img src=\"images/apikey_2.png\" alt=\"api2\"  />"
      ]
    },
    {
      "cell_type": "markdown",
      "metadata": {},
      "source": [
        "<img src=\"images/apikey_3.png\" alt=\"api3\"  />"
      ]
    },
    {
      "cell_type": "markdown",
      "metadata": {},
      "source": [
        "#### WATSONX_PROJECT_ID: ID do seu projeto no watsonx ai, o qual pode ser obtido nas configurações do projeto\n"
      ]
    },
    {
      "cell_type": "markdown",
      "metadata": {},
      "source": [
        "<img src=\"images/wx-id.png\" alt=\"wx-id\"  />"
      ]
    },
    {
      "cell_type": "markdown",
      "metadata": {},
      "source": [
        "#### Credenciais do COS\n",
        "\n",
        "Uma vez na intância do COS, entre em Service credentials e gere uma nova com o Role \"Manager\" e com a opção HMAC ativa."
      ]
    },
    {
      "cell_type": "markdown",
      "metadata": {},
      "source": [
        "<img src=\"images/service_cred_1.png\" alt=\"serv-1\"  />"
      ]
    },
    {
      "cell_type": "markdown",
      "metadata": {},
      "source": [
        "<img src=\"images/service_cred_3.png\" alt=\"serv-2\"  />"
      ]
    },
    {
      "cell_type": "markdown",
      "metadata": {},
      "source": [
        "Em seguida, colote: COS_API_KEY, COS_ACCESS_KEY_ID e COS_SECRET_ACCESS_KEY"
      ]
    },
    {
      "cell_type": "markdown",
      "metadata": {},
      "source": [
        "<img src=\"images/service_cred_4.png\" alt=\"serv-3\"  />"
      ]
    },
    {
      "cell_type": "markdown",
      "metadata": {},
      "source": [
        "Crie um bucket que será o armazenamento da imagem e texto extraído. Após criado, preencha seu .env com o nome do bucket."
      ]
    },
    {
      "cell_type": "markdown",
      "metadata": {},
      "source": [
        "<img src=\"images/bucket_1.png\" alt=\"bucket-1\"  />"
      ]
    },
    {
      "cell_type": "markdown",
      "metadata": {},
      "source": [
        "<img src=\"images/bucket_2.png\" alt=\"bucket-2\"  />"
      ]
    },
    {
      "cell_type": "markdown",
      "metadata": {},
      "source": [
        "<img src=\"images/bucket_3.png\" alt=\"bucket-3\"  />"
      ]
    },
    {
      "cell_type": "markdown",
      "id": "11bf9cc6-baa4-4b47-b489-59df348ce43a",
      "metadata": {},
      "source": [
        "# Ponto de partida para comparação de modelos\n"
      ]
    },
    {
      "cell_type": "markdown",
      "metadata": {},
      "source": [
        "Vamos utilizar a divulgação de resultados da Magalu como base para alimentar o modelo de IA generativa, permitindo que ele responda a perguntas específicas sobre a empresa. \n",
        "\n",
        "A escolha desse documento é intencional, pois ele reúne uma grande quantidade de informações estruturadas, como tabelas, indicadores financeiros e dados operacionais relevantes."
      ]
    },
    {
      "cell_type": "markdown",
      "metadata": {},
      "source": [
        "<img src=\"images/RI-Magalu.png\" alt=\"magalu\"  />"
      ]
    },
    {
      "cell_type": "markdown",
      "metadata": {},
      "source": [
        "### Pytesseract - OCR OpenSource"
      ]
    },
    {
      "cell_type": "markdown",
      "metadata": {},
      "source": [
        "Importa bibliotecas necessárias para OCR (Reconhecimento Óptico de Caracteres) e manipulação de imagens, além de carregar variáveis de ambiente.\n",
        "\n",
        "Bibliotecas: \n",
        "- pytesseract: OCR open source\n",
        "- PIL (Python Imaging Library): Manipulação de imagens\n",
        "- dotenv: Carregar variáveis de ambiente\n",
        "- os: Interação com o sistema operacional"
      ]
    },
    {
      "cell_type": "code",
      "execution_count": 6,
      "id": "6da4f09e-2482-4e05-a367-833518d1eb17",
      "metadata": {},
      "outputs": [
        {
          "data": {
            "text/plain": [
              "True"
            ]
          },
          "execution_count": 6,
          "metadata": {},
          "output_type": "execute_result"
        }
      ],
      "source": [
        "import pytesseract\n",
        "from PIL import Image\n",
        "from dotenv import load_dotenv\n",
        "import os\n",
        "\n",
        "load_dotenv()"
      ]
    },
    {
      "cell_type": "markdown",
      "metadata": {},
      "source": [
        "Recuperando o caminho do diretório de imagens a partir de uma variável de ambiente"
      ]
    },
    {
      "cell_type": "code",
      "execution_count": 7,
      "id": "99245c1d-80c7-48bf-bcdb-125551941c5f",
      "metadata": {},
      "outputs": [],
      "source": [
        "path_image = os.getenv(\"PATH_IMAGE\")"
      ]
    },
    {
      "cell_type": "markdown",
      "metadata": {},
      "source": [
        "Extração de texto de imagem utilizando OCR (Optical Character Recognition), verifica se o arquivo de imagem existe, abre a imagem, aplica OCR e salva o resultado em uma pasta temporária.\n",
        "\n",
        "Podemos observar o texto extraido pela aplicação de um OCR open source"
      ]
    },
    {
      "cell_type": "code",
      "execution_count": 8,
      "id": "8cb91cb2-570d-40f1-aafa-7d2311cd25d2",
      "metadata": {},
      "outputs": [
        {
          "name": "stdout",
          "output_type": "stream",
          "text": [
            "\n",
            "Texto extraído da imagem:\n",
            " Divulgagio de Resultados\n",
            "\n",
            "4724\n",
            "\n",
            "magaLu\n",
            "\n",
            "RS milhbes(exceto quando indicado) 723 Var(X)—2M24_2M23_Vvarix)\n",
            "\\VendasTotas (incuindo marketplace) 1saig9 179474 26% 65.3309 63.0553 36K.\n",
            "Receita ruta 13aog. —13082,5 26% «47.2770 «A550 37%.\n",
            "Receita Liquida 107873 10543,7 23% 3803813676813 5H.\n",
            "wero Bruto 3200 «3.1928 16% 11627,3 10.1639 14a\n",
            "Margem Bruta 301% 303% 0.2pp 306% 276% 3,0\n",
            "EBITDA 24 506 536% 2.895,7 8705 232.6%\n",
            "Margem EBITDA 78% 52%  26pp 75% 24% 52pp\n",
            "Luero Liquide 2348 222 38.9% 437 (9731) .\n",
            "Margem Liquids ™% 9% 07 pp 42% 27% __39pp\n",
            "Lucro Bruto -Ajustad 3200 «3.1928 16% = 11627,3 10750182\n",
            "Margem ruta - Austad 301% 303% 0.2pp 306% 282% 14pp\n",
            "EBITDA -Ajustado 46,2 7555 149% «29622 231B 380K\n",
            "Margem EBITDA Ajustado 78% 72% Opp 73% 58% 20pp\n",
            "Luero Liquide - Austad 1392 11s 37% 2767 —_(550,1) .\n",
            "Margem Liquida- Ajustado 13% 10% __0.3pp 07% 15% PD.\n",
            "Crescimento nas Vendas Mesmas Loja Fisicat 31% 3% 2 17% 47% zs\n",
            "Crescimento nas Vendas Tota LojasFsicas 64% 3.5% 2 102% 40% ms\n",
            "Crescimento nas Vendas Ecommerce (1P) 05% 7.8% 2 08% “13% ms\n",
            "Crescimento nas Vendas Marketplace (2°) 21% 9.9% 2 34% 168% ms\n",
            "Crestimento nas Vendas Ecommerce Total 41% 1.5% 2 41% 5.2% ms\n",
            "Participagio E-commerce Total nas Vendas Totals 698% 703% __-1,1pp 706% 723% 17 pp\n",
            "‘uantidade de Lojas- Final do Periodo 1.285 1.286 AL boas 1245 1286-41 lojas\n",
            "‘Area de Vendas- Final do Perfodo (M#) 626976 716298 -41% 685976 716298 __—-4,%.\n",
            "\n",
            "‘endasTotasincluem vendas nas loasfisicas, e-commerce tradicional (1P)e marketplace (3).\n",
            "\n"
          ]
        }
      ],
      "source": [
        "if not os.path.isfile(path_image):\n",
        "    raise FileNotFoundError(f\"Arquivo não encontrado: {path_image}\")\n",
        "\n",
        "image = Image.open(path_image)\n",
        "\n",
        "\n",
        "temp_folder = \"temp_images\"\n",
        "os.makedirs(temp_folder, exist_ok=True)\n",
        "\n",
        "\n",
        "saved_image_path = os.path.join(temp_folder, \"processed_image.png\")\n",
        "\n",
        "image.save(saved_image_path, \"PNG\")\n",
        "\n",
        "ocr_text = pytesseract.image_to_string(image)\n",
        "\n",
        "print(\"\\nTexto extraído da imagem:\\n\", ocr_text)"
      ]
    },
    {
      "cell_type": "markdown",
      "id": "0c6d8b3c-8787-48ed-bf90-56718fe431a4",
      "metadata": {},
      "source": [
        "## Perguntas e Respostas (Q&A) do artigo a partir do texto extraido pelo Pytesseract\n"
      ]
    },
    {
      "cell_type": "markdown",
      "id": "fb07180a-b2b9-4772-8a40-d7ff06bbf56e",
      "metadata": {},
      "source": [
        "### Configuração da API do watsonx.ai"
      ]
    },
    {
      "cell_type": "markdown",
      "metadata": {},
      "source": [
        "Configuração do modelo de IA generativa para processamento de linguagem natural.\n",
        "\n",
        "Importa a classe Model do pacote foundation_models do IBM Watson Machine Learning.\n",
        "\n",
        "Define as credenciais e parâmetros para acesso ao modelo Meta Llama 3.1 70B Instruct."
      ]
    },
    {
      "cell_type": "code",
      "execution_count": 9,
      "id": "8baf5552-e36e-4956-b6c8-65f860fd6fe5",
      "metadata": {},
      "outputs": [
        {
          "name": "stderr",
          "output_type": "stream",
          "text": [
            "/Users/laurapellizaripereira/Downloads/Build-Blocks/ocr/env/lib/python3.12/site-packages/ibm_watson_machine_learning/foundation_models/utils/utils.py:273: LifecycleWarning: Model 'meta-llama/llama-3-1-70b-instruct' is in deprecated state from 2025-01-22 until 2025-05-30. IDs of alternative models: llama-3-3-70b-instruct, llama-3-2-90b-vision-instruct. Further details: https://dataplatform.cloud.ibm.com/docs/content/wsj/analyze-data/fm-model-lifecycle.html?context=wx&audience=wdp\n",
            "  warnings.warn(default_warning_template.format(\n"
          ]
        }
      ],
      "source": [
        "from ibm_watson_machine_learning.foundation_models import Model\n",
        "\n",
        "WATSONX_API_KEY = os.getenv(\"WATSONX_API_KEY\")\n",
        "WATSONX_PROJECT_ID = os.getenv(\"WATSONX_PROJECT_ID\")\n",
        "\n",
        "model_id = 'meta-llama/llama-3-1-70b-instruct'\n",
        "\n",
        "parameters = {\n",
        "        \"decoding_method\": \"greedy\",\n",
        "        \"max_new_tokens\": 1200,\n",
        "        \"stop_sequences\": None,\n",
        "        \"repetition_penalty\": 1\n",
        "}\n",
        "\n",
        "model_gen_ai = Model(\n",
        "        model_id = model_id,\n",
        "        params = parameters,\n",
        "        credentials = {\n",
        "            \"url\" : \"https://us-south.ml.cloud.ibm.com\",\n",
        "            \"apikey\" : WATSONX_API_KEY\n",
        "        },\n",
        "        project_id = WATSONX_PROJECT_ID,\n",
        ")\n"
      ]
    },
    {
      "cell_type": "markdown",
      "id": "e0e62871-7673-42f1-b677-6a476181307e",
      "metadata": {},
      "source": [
        "###  Geração de resposta a partir de um modelo de IA generativo para pergunta com base no texto extraído via OCR"
      ]
    },
    {
      "cell_type": "code",
      "execution_count": 10,
      "id": "860bf5ef-0d0e-4ee7-b00f-fe2a034e7cac",
      "metadata": {},
      "outputs": [],
      "source": [
        "input_question = \"Qual foi o EBITDA em 4T23? \"  \n",
        "\n",
        "prompt_text = f'''  # Construção do prompt para o modelo de IA\n",
        "        Você é um assistente responsável por responder perguntas com base em um contexto fornecido. \n",
        "        Este é seu contexto: {ocr_text}.\n",
        "        Pergunta: {input_question} \n",
        "        Resposta:'''\n",
        "\n",
        "result = model_gen_ai.generate_text(prompt=prompt_text)"
      ]
    },
    {
      "cell_type": "code",
      "execution_count": 11,
      "id": "12790e5d-b0f3-4bfe-a0d8-68fa72dd9edf",
      "metadata": {},
      "outputs": [
        {
          "name": "stdout",
          "output_type": "stream",
          "text": [
            " 24.506\n"
          ]
        }
      ],
      "source": [
        "print(result)"
      ]
    },
    {
      "cell_type": "markdown",
      "metadata": {},
      "source": [
        "##### Repare na imagem que a resposta correta seria 548,6 milhões."
      ]
    },
    {
      "cell_type": "markdown",
      "id": "4fd6973d-9a71-40af-920d-d9bc8d5cefe6",
      "metadata": {},
      "source": [
        "# IBM OCR for documents (IOCR)"
      ]
    },
    {
      "cell_type": "markdown",
      "id": "8b0d26f0-6ece-4ce3-8c9b-1f65878a13f4",
      "metadata": {
        "pycharm": {
          "name": "#%% md\n"
        }
      },
      "source": [
        "## Configuração do ambiente\n",
        "\n",
        "Antes de usar o código de exemplo deste notebook, você deve realizar as seguintes tarefas de configuração:\n",
        "\n",
        "- Crie uma instância do <a href=\"https://cloud.ibm.com/catalog/services/watson-machine-learning\" target=\"_blank\" rel=\"noopener no referrer\">serviço Watson Machine Learning (WML)</a> (um plano gratuito é oferecido e informações sobre como criar a instância podem ser encontradas <a href=\"https://dataplatform.cloud.ibm.com/docs/content/wsj/getting-started/wml-plans.html?context=wx&audience=wdp\" target=\"_blank\" rel=\"noopener no referrer\">aqui</a>).\n"
      ]
    },
    {
      "cell_type": "markdown",
      "id": "32b31b94-2b14-4acc-ad0d-2212ae4cc8a5",
      "metadata": {
        "pycharm": {
          "name": "#%% md\n"
        }
      },
      "source": [
        "## Definição das credenciais do WML\n",
        "Esta célula define as credenciais do WML necessárias para trabalhar com inferência do Modelo de Fundação do watsonx.\n",
        " \n",
        "**Ação:** Forneça a chave de API do usuário da IBM Cloud. Para detalhes, consulte <a href=\"https://cloud.ibm.com/docs/account?topic=account-userapikey&interface=ui\" target=\"_blank\" rel=\"noopener no referrer\">documentação</a>.\n"
      ]
    },
    {
      "cell_type": "code",
      "execution_count": 10,
      "id": "cd2ac8e2-2895-4ae9-b501-a478ee0f888d",
      "metadata": {
        "pycharm": {
          "name": "#%%\n"
        }
      },
      "outputs": [],
      "source": [
        "from ibm_watsonx_ai import Credentials\n",
        "\n",
        "credentials = Credentials(url=\"https://us-south.ml.cloud.ibm.com\",\n",
        "                          api_key=WATSONX_API_KEY)\n"
      ]
    },
    {
      "cell_type": "markdown",
      "id": "66458f88-6064-4248-af6b-073cb7d8171d",
      "metadata": {
        "pycharm": {
          "name": "#%% md\n"
        }
      },
      "source": [
        "### Definição do ID do projeto\n",
        "O serviço de Extração de Texto requer um ID de projeto que forneça o contexto para a chamada. \n",
        "\n",
        "Obteremos o ID do projeto em que este caderno é executado. \n",
        "\n",
        "Caso contrário, forneça o ID do projeto."
      ]
    },
    {
      "cell_type": "code",
      "execution_count": 11,
      "id": "24990917-5523-40a6-9442-7015b25b2adc",
      "metadata": {
        "pycharm": {
          "name": "#%%\n"
        }
      },
      "outputs": [],
      "source": [
        "try:\n",
        "    project_id = WATSONX_PROJECT_ID\n",
        "except KeyError:\n",
        "    project_id = input(\"Por favor, insira seu project_id: \")"
      ]
    },
    {
      "cell_type": "markdown",
      "id": "d45e3d33-e8e9-4e06-958d-e4b6104c9d50",
      "metadata": {},
      "source": [
        "\n",
        "### Inicialização do cliente da API\n"
      ]
    },
    {
      "cell_type": "markdown",
      "metadata": {},
      "source": [
        "Importa a classe APIClient do módulo ibm_watsonx_ai para interagir com o watsonx.ai\n",
        "\n",
        "Instancia a classe APIClient com as credenciais e o ID do projeto fornecidos"
      ]
    },
    {
      "cell_type": "code",
      "execution_count": 12,
      "id": "339bd269-94a7-45dc-ad3e-3b2ff469d9c8",
      "metadata": {},
      "outputs": [],
      "source": [
        "from ibm_watsonx_ai import APIClient\n",
        "\n",
        "client = APIClient(credentials=credentials, project_id=project_id)"
      ]
    },
    {
      "cell_type": "markdown",
      "id": "dc10bed7-5258-4034-b7a7-6765d6b53c08",
      "metadata": {
        "pycharm": {
          "name": "#%% md\n"
        }
      },
      "source": [
        "## Criar conexões de dados com documento de origem e referência de resultados\n"
      ]
    },
    {
      "cell_type": "markdown",
      "id": "69b78493-f6e1-4c7e-90a4-7961d18b9a17",
      "metadata": {
        "pycharm": {
          "name": "#%% md\n"
        }
      },
      "source": [
        "O documento do qual vamos extrair texto está localizado no IBM Cloud Object Storage (COS). \n",
        "\n",
        "No exemplo a seguir, usaremos a mesma imagem sobre resultados financeiros da Magalu que foi utilizado no primeiro exemplo extraido por uma biblioteca opensource.\n",
        "\n",
        "Além disso, o arquivo de resultados finais, que conterá o texto extraído e metadados necessários, será colocado no COS. \n",
        "Portanto, usamos as classes `ibm_watsonx_ai.helpers.DataConnection` e `ibm_watsonx_ai.helpers.S3Location` para criar objetos Python que representarão as referências aos arquivos processados.\n",
        "\n",
        "Observação: é necessário criar um ativo de conexão com os detalhes do seu COS \n",
        "\n",
        "(para uma explicação detalhada de como fazer isso, consulte [conexão do IBM Cloud Object Storage ](https://dataplatform.cloud.ibm.com/docs/content/wsj/manage-data/conn-cos.html?context=wx) ou verifique as células abaixo).\n"
      ]
    },
    {
      "cell_type": "markdown",
      "id": "de170c9b-146c-4de5-9b04-a9ed7a00e63f",
      "metadata": {},
      "source": [
        "\n",
        "### Crie uma conexão com o COS\n",
        "Você pode pular esta seção se já tiver um ativo de conexão com o **Cloud Object Storage IBM Cloud**.\n"
      ]
    },
    {
      "cell_type": "code",
      "execution_count": 13,
      "id": "1b1a1472-1837-4a11-ae2f-fa72ecdca669",
      "metadata": {},
      "outputs": [],
      "source": [
        "COS_BUCKET_NAME = os.getenv(\"COS_BUCKET_NAME\")\n",
        "COS_API_KEY = os.getenv(\"COS_API_KEY\")\n",
        "COS_ACCESS_KEY_ID = os.getenv(\"COS_ACCESS_KEY_ID\")\n",
        "COS_SECRET_ACCESS_KEY = os.getenv(\"COS_SECRET_ACCESS_KEY\")"
      ]
    },
    {
      "cell_type": "code",
      "execution_count": 14,
      "id": "1cb9a884-c596-499f-982c-0d353f8a4a87",
      "metadata": {},
      "outputs": [],
      "source": [
        "datasource_name = 'cloudobjectstorage'\n",
        "bucketname = COS_BUCKET_NAME"
      ]
    },
    {
      "cell_type": "markdown",
      "metadata": {},
      "source": [
        "Definição das credenciais para acesso ao Cloud Object Storage (COS) da IBM\n",
        "\n",
        "As variáveis COS_API_KEY, COS_ACCESS_KEY_ID e COS_SECRET_ACCESS_KEY devem ser previamente configuradas no arquivo .env\n",
        "\n",
        "Essas credenciais são utilizadas para autenticar e autorizar o acesso ao COS."
      ]
    },
    {
      "cell_type": "code",
      "execution_count": 15,
      "id": "4fc3c84e-22c0-4249-b70d-8c4471d9f3bf",
      "metadata": {},
      "outputs": [],
      "source": [
        "cos_credentials = {\n",
        "    \"endpoint_url\": \"https://s3.us-south.cloud-object-storage.appdomain.cloud\",\n",
        "    \"apikey\": COS_API_KEY,\n",
        "    \"access_key_id\": COS_ACCESS_KEY_ID,\n",
        "    \"secret_access_key\": COS_SECRET_ACCESS_KEY\n",
        "}"
      ]
    },
    {
      "cell_type": "code",
      "execution_count": 16,
      "id": "1acdd6e3-abfe-4ccd-a99d-b9815ab22441",
      "metadata": {},
      "outputs": [
        {
          "name": "stdout",
          "output_type": "stream",
          "text": [
            "Creating connections...\n",
            "SUCCESS\n"
          ]
        }
      ],
      "source": [
        "conn_meta_props= {\n",
        "    client.connections.ConfigurationMetaNames.NAME: f\"Connection to Database - {datasource_name} \",\n",
        "    client.connections.ConfigurationMetaNames.DATASOURCE_TYPE: client.connections.get_datasource_type_id_by_name(datasource_name),\n",
        "    client.connections.ConfigurationMetaNames.DESCRIPTION: \"Connection to external Database\",\n",
        "    client.connections.ConfigurationMetaNames.PROPERTIES: {\n",
        "        'bucket': bucketname,\n",
        "        'access_key': cos_credentials['access_key_id'],\n",
        "        'secret_key': cos_credentials['secret_access_key'],\n",
        "        'iam_url': 'https://iam.cloud.ibm.com/identity/token',\n",
        "        'url': cos_credentials['endpoint_url']\n",
        "    }\n",
        "}\n",
        "\n",
        "\n",
        "conn_details = client.connections.create(meta_props=conn_meta_props)\n",
        "connection_asset_id = client.connections.get_id(conn_details)"
      ]
    },
    {
      "cell_type": "markdown",
      "id": "f3bb8357-bda1-4689-80ac-b4e0ccf2d59e",
      "metadata": {},
      "source": [
        "\n",
        "### Faça o upload do arquivo e crie a referência do documento e dos resultados\n"
      ]
    },
    {
      "cell_type": "markdown",
      "metadata": {},
      "source": [
        "Configuração de conexão com armazenamento em nuvem para dados de entrada e saída"
      ]
    },
    {
      "cell_type": "code",
      "execution_count": null,
      "id": "ddc1ecb1-25c5-493b-95f5-8bc547932656",
      "metadata": {},
      "outputs": [],
      "source": [
        "from ibm_watsonx_ai.helpers import DataConnection, S3Location\n",
        "\n",
        "\n",
        "image_name = \"RI-Magalu\" \n",
        "\n",
        "source_file_name = image_name + \".png\" \n",
        "results_file_name = \"plain.txt\"\n"
      ]
    },
    {
      "cell_type": "markdown",
      "metadata": {},
      "source": [
        "Estabelece uma conexão remota para gravar um arquivo em um local específico da estrutura de armazenamento em nuvem S3 e publica o resultado."
      ]
    },
    {
      "cell_type": "code",
      "execution_count": 19,
      "id": "01b19d76-ef61-424d-a6bd-3f6d9ce43bec",
      "metadata": {},
      "outputs": [],
      "source": [
        "remote_document_reference = DataConnection(connection_asset_id=connection_asset_id,\n",
        "                                           location=S3Location(bucket = bucketname, path = \".\"))\n",
        "\n",
        "# Define o cliente para a conexão remota\n",
        "remote_document_reference.set_client(client)\n",
        "\n",
        "# Grava o arquivo no local remoto especificado\n",
        "remote_document_reference.write(path_image, remote_name=source_file_name)"
      ]
    },
    {
      "cell_type": "markdown",
      "id": "45371c58-ce2c-4be1-bbf0-e3670ac865d7",
      "metadata": {},
      "source": [
        "\n",
        "### Criar uma conexão de dados que represente o documento e a referência de resultados.\n"
      ]
    },
    {
      "cell_type": "markdown",
      "metadata": {},
      "source": [
        "Definição das referências de dados para conexão com o S3"
      ]
    },
    {
      "cell_type": "code",
      "execution_count": null,
      "id": "5a4483a6-77de-486c-ade4-12be7ab80eb0",
      "metadata": {},
      "outputs": [],
      "source": [
        "document_reference = DataConnection(\n",
        "    connection_asset_id=connection_asset_id,\n",
        "    location=S3Location(\n",
        "        bucket=bucketname,\n",
        "        path=source_file_name\n",
        "    )\n",
        ")\n",
        "\n",
        "results_reference = DataConnection(\n",
        "    connection_asset_id=connection_asset_id,\n",
        "    location=S3Location(\n",
        "        bucket=bucketname,\n",
        "        path=results_file_name\n",
        "    )\n",
        ")"
      ]
    },
    {
      "cell_type": "markdown",
      "id": "707a915c-591b-4403-8b24-cf366fce6d9d",
      "metadata": {},
      "source": [
        "\n",
        "## Extrair texto\n"
      ]
    },
    {
      "cell_type": "markdown",
      "id": "c9fab4ad-8f97-462e-ac49-825ccb4d1739",
      "metadata": {},
      "source": [
        "Como as conexões de dados para arquivos de origem e resultados estão prontas, podemos prosseguir para a etapa do trabalho de execução da extração de texto.\n",
        "\n",
        "Para inicializar o gerenciador de extração de texto, usamos a classe `TextExtractions`.\n"
      ]
    },
    {
      "cell_type": "code",
      "execution_count": 21,
      "id": "f40186e7-a6b1-40c6-81c1-e524b0b7b391",
      "metadata": {},
      "outputs": [],
      "source": [
        "from ibm_watsonx_ai.foundation_models.extractions import TextExtractions\n",
        "from ibm_watsonx_ai.metanames import TextExtractionsMetaNames"
      ]
    },
    {
      "cell_type": "markdown",
      "metadata": {},
      "source": [
        "Inicializa a extração de texto utilizando a API client e o ID do projeto"
      ]
    },
    {
      "cell_type": "code",
      "execution_count": 22,
      "id": "8aea387a-a71e-41d1-8982-170b228fa12a",
      "metadata": {},
      "outputs": [],
      "source": [
        "extraction = TextExtractions(api_client=client, project_id=project_id)"
      ]
    },
    {
      "cell_type": "markdown",
      "id": "d0ec2acf-c7b5-419e-9403-b22397e8807d",
      "metadata": {},
      "source": [
        "Ao executar o trabalho, é possível especificar as etapas do pipeline de extração de texto.\n",
        "\n",
        "Para obter mais detalhes sobre as etapas disponíveis, consulte a [documentação](https://cloud.ibm.com/apidocs/watsonx-ai#text-extraction)."
      ]
    },
    {
      "cell_type": "code",
      "execution_count": 23,
      "id": "1c4b15aa-6939-4135-b763-adec2b9c0498",
      "metadata": {},
      "outputs": [
        {
          "name": "stdout",
          "output_type": "stream",
          "text": [
            "----------------  ----  --------\n",
            "META_PROP NAME    TYPE  REQUIRED\n",
            "OCR               dict  N\n",
            "TABLE_PROCESSING  dict  N\n",
            "----------------  ----  --------\n"
          ]
        }
      ],
      "source": [
        "TextExtractionsMetaNames().show()"
      ]
    },
    {
      "cell_type": "markdown",
      "id": "2b4743bc-a967-4973-8b61-ce91c90f7d83",
      "metadata": {},
      "source": [
        "Para visualizar valores de parâmetros de amostra para as etapas de extração de texto, execute `get_example_values()`."
      ]
    },
    {
      "cell_type": "code",
      "execution_count": 24,
      "id": "80e145f8-d5bf-494a-8fa3-40c368c1abdb",
      "metadata": {},
      "outputs": [
        {
          "data": {
            "text/plain": [
              "{'ocr': {'process_images': True, 'language_list': ['en']},\n",
              " 'tables_processing': {'enabled': True}}"
            ]
          },
          "execution_count": 24,
          "metadata": {},
          "output_type": "execute_result"
        }
      ],
      "source": [
        "TextExtractionsMetaNames().get_example_values()"
      ]
    },
    {
      "cell_type": "markdown",
      "id": "2d09dfe9-a4fb-4109-87ac-24ba643aa7e7",
      "metadata": {},
      "source": [
        "No código de exemplo a seguir, utilizaremos os passos abaixo\n"
      ]
    },
    {
      "cell_type": "code",
      "execution_count": 25,
      "id": "d1b4e1ea-5d7d-4316-8e21-0a373fdc61a0",
      "metadata": {},
      "outputs": [],
      "source": [
        "steps = {\n",
        "    \"ocr\": {\n",
        "        \"languages_list\": [\n",
        "            \"pt\"\n",
        "        ]\n",
        "    },\n",
        "    \"tables_processing\": {\n",
        "        \"enabled\": True\n",
        "    },\n",
        "    \"assembly_md\": {}\n",
        "}\n"
      ]
    },
    {
      "cell_type": "markdown",
      "id": "4c38c959-9b38-4a7d-b176-f3861742e3eb",
      "metadata": {},
      "source": [
        "Agora podemos executar o trabalho de extração de texto.\n"
      ]
    },
    {
      "cell_type": "code",
      "execution_count": 38,
      "id": "91ba455e-8ff2-4ba1-8346-70236676c715",
      "metadata": {},
      "outputs": [
        {
          "name": "stdout",
          "output_type": "stream",
          "text": [
            "{'metadata': {'id': '69cc5101-8ea6-49c9-8fb8-8b8d984a2c02', 'created_at': '2025-05-13T20:29:02.927Z', 'project_id': '3bb56b5d-0778-4f71-bd40-d6d7d5b9011f'}, 'entity': {'document_reference': {'type': 'connection_asset', 'connection': {'id': '8a9a4e88-24df-4ddd-8ef1-7e1dc95b19b4'}, 'location': {'bucket': 'bucket-uxe54qdrdqc2c41', 'file_name': 'RI-Magalu.png'}}, 'results_reference': {'type': 'connection_asset', 'connection': {'id': '8a9a4e88-24df-4ddd-8ef1-7e1dc95b19b4'}, 'location': {'bucket': 'bucket-uxe54qdrdqc2c41', 'file_name': 'plain.txt'}}, 'steps': {'ocr': {'languages_list': ['pt']}, 'tables_processing': {'enabled': True}}, 'parameters': {'requested_outputs': ['plain_text'], 'mode': 'standard', 'languages': ['pt'], 'create_embedded_images': 'disabled', 'output_dpi': 72, 'output_tokens_and_bbox': True}, 'results': {'status': 'submitted', 'number_pages_processed': 0}}}\n"
          ]
        }
      ],
      "source": [
        "details = extraction.run_job(document_reference=document_reference, \n",
        "                             results_reference=results_reference, \n",
        "                             steps=steps)\n",
        "print(details)\n"
      ]
    },
    {
      "cell_type": "markdown",
      "metadata": {},
      "source": [
        "Obtém o ID do trabalho de extração com base nos detalhes fornecidos"
      ]
    },
    {
      "cell_type": "code",
      "execution_count": 39,
      "id": "e5e8955a-d44b-4014-a1e9-d10ce727ce5b",
      "metadata": {},
      "outputs": [],
      "source": [
        "extraction_job_id = extraction.get_id(extraction_details=details)"
      ]
    },
    {
      "cell_type": "markdown",
      "id": "178740a1-7292-4e75-98bc-c88d916066df",
      "metadata": {},
      "source": [
        "Podemos listar trabalhos de extração de texto usando um método de lista adequado."
      ]
    },
    {
      "cell_type": "code",
      "execution_count": 30,
      "metadata": {},
      "outputs": [
        {
          "data": {
            "text/html": [
              "<div>\n",
              "<style scoped>\n",
              "    .dataframe tbody tr th:only-of-type {\n",
              "        vertical-align: middle;\n",
              "    }\n",
              "\n",
              "    .dataframe tbody tr th {\n",
              "        vertical-align: top;\n",
              "    }\n",
              "\n",
              "    .dataframe thead th {\n",
              "        text-align: right;\n",
              "    }\n",
              "</style>\n",
              "<table border=\"1\" class=\"dataframe\">\n",
              "  <thead>\n",
              "    <tr style=\"text-align: right;\">\n",
              "      <th></th>\n",
              "      <th>EXTRACTION_ID</th>\n",
              "      <th>CREATED</th>\n",
              "      <th>STATUS</th>\n",
              "    </tr>\n",
              "  </thead>\n",
              "  <tbody>\n",
              "    <tr>\n",
              "      <th>0</th>\n",
              "      <td>438124fb-61ef-49d7-9083-9fff1fb6f916</td>\n",
              "      <td>2025-05-13T20:26:11.606Z</td>\n",
              "      <td>running</td>\n",
              "    </tr>\n",
              "    <tr>\n",
              "      <th>1</th>\n",
              "      <td>58298596-5341-4623-a7d6-7b01943fff77</td>\n",
              "      <td>2025-05-13T20:08:10.201Z</td>\n",
              "      <td>completed</td>\n",
              "    </tr>\n",
              "    <tr>\n",
              "      <th>2</th>\n",
              "      <td>f274fdcf-c31b-401b-abea-2e4f6bc0c82f</td>\n",
              "      <td>2025-05-13T20:12:57.179Z</td>\n",
              "      <td>completed</td>\n",
              "    </tr>\n",
              "  </tbody>\n",
              "</table>\n",
              "</div>"
            ],
            "text/plain": [
              "                          EXTRACTION_ID                   CREATED     STATUS\n",
              "0  438124fb-61ef-49d7-9083-9fff1fb6f916  2025-05-13T20:26:11.606Z    running\n",
              "1  58298596-5341-4623-a7d6-7b01943fff77  2025-05-13T20:08:10.201Z  completed\n",
              "2  f274fdcf-c31b-401b-abea-2e4f6bc0c82f  2025-05-13T20:12:57.179Z  completed"
            ]
          },
          "execution_count": 30,
          "metadata": {},
          "output_type": "execute_result"
        }
      ],
      "source": [
        "extraction.list_jobs()"
      ]
    },
    {
      "cell_type": "markdown",
      "id": "f28d313c-cff3-4409-8370-7698a274c3b2",
      "metadata": {},
      "source": [
        "Além disso, para obter detalhes de uma solicitação específica de extração de texto, execute o seguinte\n"
      ]
    },
    {
      "cell_type": "code",
      "execution_count": 42,
      "id": "78d3587a-707a-4bba-abd2-a75856eaa7e4",
      "metadata": {},
      "outputs": [
        {
          "data": {
            "text/plain": [
              "{'entity': {'document_reference': {'connection': {'id': '8a9a4e88-24df-4ddd-8ef1-7e1dc95b19b4'},\n",
              "   'location': {'bucket': 'bucket-uxe54qdrdqc2c41',\n",
              "    'file_name': 'RI-Magalu.png'},\n",
              "   'type': 'connection_asset'},\n",
              "  'parameters': {'create_embedded_images': 'disabled',\n",
              "   'languages': ['pt'],\n",
              "   'mode': 'standard',\n",
              "   'output_dpi': 72,\n",
              "   'output_tokens_and_bbox': True,\n",
              "   'requested_outputs': ['plain_text']},\n",
              "  'results': {'completed_at': '2025-05-13T20:29:11.081Z',\n",
              "   'location': ['plain.txt'],\n",
              "   'number_pages_processed': 1,\n",
              "   'running_at': '2025-05-13T20:29:05.661Z',\n",
              "   'status': 'completed'},\n",
              "  'results_reference': {'connection': {'id': '8a9a4e88-24df-4ddd-8ef1-7e1dc95b19b4'},\n",
              "   'location': {'bucket': 'bucket-uxe54qdrdqc2c41', 'file_name': 'plain.txt'},\n",
              "   'type': 'connection_asset'},\n",
              "  'steps': {'ocr': {'languages_list': ['pt']},\n",
              "   'tables_processing': {'enabled': True}}},\n",
              " 'metadata': {'created_at': '2025-05-13T20:29:02.927Z',\n",
              "  'id': '69cc5101-8ea6-49c9-8fb8-8b8d984a2c02',\n",
              "  'modified_at': '2025-05-13T20:29:11.558Z',\n",
              "  'project_id': '3bb56b5d-0778-4f71-bd40-d6d7d5b9011f'}}"
            ]
          },
          "execution_count": 42,
          "metadata": {},
          "output_type": "execute_result"
        }
      ],
      "source": [
        "extraction.get_job_details(extraction_id=extraction_job_id)"
      ]
    },
    {
      "cell_type": "markdown",
      "id": "c4583303-83cd-4742-abe3-5094e5196a3f",
      "metadata": {},
      "source": [
        " Além disso, para excluir o trabalho de extração de texto, execute o método `delete_job()`.\n"
      ]
    },
    {
      "cell_type": "markdown",
      "id": "ef1d691f-8389-420f-b57b-c37ded395736",
      "metadata": {},
      "source": [
        "## Análise dos resultados\n"
      ]
    },
    {
      "cell_type": "markdown",
      "id": "e111c15b-2e7d-435e-9eb1-e2f69819416e",
      "metadata": {},
      "source": [
        "Uma vez que a extração do trabalho seja concluída, podemos baixar o arquivo de resultados e processá-lo posteriormente.\n"
      ]
    },
    {
      "cell_type": "code",
      "execution_count": null,
      "id": "635d694e-57e9-401a-9cbf-5289d7a21a3e",
      "metadata": {},
      "outputs": [],
      "source": [
        "results_reference = extraction.get_results_reference(extraction_id=extraction_job_id)\n",
        "results_reference.download(filename=results_file_name)"
      ]
    },
    {
      "cell_type": "markdown",
      "metadata": {},
      "source": [
        "Extraí o resultado do OCR, removendo espaços vazios e convertendo para string"
      ]
    },
    {
      "cell_type": "code",
      "execution_count": 52,
      "metadata": {},
      "outputs": [
        {
          "name": "stdout",
          "output_type": "stream",
          "text": [
            "Divulgação de Resultados 4T24\n",
            "      Var(%)      \n",
            "Vendas Totais' (incluindo marketplace) 18.419,9 17.947,4 2,6% 65.330,9 63.056,3 3,6%\n",
            "Receita Bruta 13.404,1 13.062,5 2,6% 47.277,0 45.591,0 3,7%\n",
            "Receita Líquida 10.787,3 10.549,7 2,3% 38.038,1 36.768,1 3,5%\n",
            "Lucro Bruto 3.244,0 3.192,8 1,6% 11.627,3 10.163,9 14,4%\n",
            "Margem Bruta 30,1% 30,3% -0,2 pp 30,6% 27,6% 3,0 pp\n",
            "EBITDA 842,4 548,6 53,6% 2.895,7 870,5 232,6%\n",
            "Margem EBITDA 7,8% 5,2% 2,6 pp 7,6% 2,4% 5,2 pp\n",
            "Lucro Líquido 294,8 212,2 38,9% 448,7 (979,1)  \n",
            "Margem Líquida 2,7% 2,0% 0,7 pp 1,2% -2,7% 3,9 pp\n",
            "Lucro Bruto - - Ajustado 3.244,0 3.192,8 1,6% 11.627,3 10.750,1 8,2%\n",
            "Margem Bruta - Ajustado - 30,1% 30,3% -0,2 pp 30,6% 29,2% 1,4 pp\n",
            "EBITDA - - Ajustado 846,2 756,5 11,9% 2.962,2 2.131,8 39,0%\n",
            "Margem EBITDA Ajustado 7,8% 7,2% 0,6 pp 7,8% 5,8% 2,0 pp\n",
            "Lucro Líquido - Ajustado 139,2 101,5 37,1% 276,7 (550,1)  \n",
            "Margem Líquida - Ajustado - 1,3% 1,0% 0,3 pp 0,7% -1,5% 2,2 pp\n",
            "Crescimento nas Vendas Mesmas Lojas Físicas 8,1% 3,7%   11,7% 4,7%  \n",
            "Crescimento nas Vendas Totais Lojas Físicas 6,4% 3,5%   10,1% 4,0%  \n",
            "Crescimento nas Vendas E-commerce (1P) 0,5% -7,8%   -0,4% -1,3%  \n",
            "Crescimento nas Vendas Marketplace (3P) 2,1% 9,9%   3,4% 16,8%  \n",
            "Crescimento nas Vendas E-commerce Total 1,1% -1,5%   1,1% 5,1%  \n",
            "Participação E-commerce Total nas Vendas Totais 69,8% 70,8% -1,1 pp 70,6% 72,3% -1,7 pp\n",
            "Quantidade de Lojas - Final do Período 1.245 1.286 -41 lojas 1.245 1.286 -41 lojas\n",
            "Área de Vendas - Final do Período (M\") 686.976 716.298 -4,1% 686.976 716.298 -4,1%\n",
            "R$\n",
            "milhões\n",
            "indicado)\n",
            "(exceto\n",
            "quando\n",
            "4T24\n",
            "4T23\n",
            "12M24\n",
            "12M23\n",
            "Var(%)\n",
            "MaGALu\n",
            "'Vendas Totais incluem vendas nas lojas físicas, e-commerce tradicional (1P) e marketplace (3P).\n"
          ]
        }
      ],
      "source": [
        "with open(results_file_name, \"r\", encoding=\"utf-8\") as file:\n",
        "    resultado_ocr = file.read()\n",
        "\n",
        "print(resultado_ocr)"
      ]
    },
    {
      "cell_type": "markdown",
      "id": "48928c84-0e94-4a28-904c-fca77c74fa42",
      "metadata": {},
      "source": [
        "### Perguntas e Respostas (Q&A) do artigo a partir do texto extraido por IOCR"
      ]
    },
    {
      "cell_type": "code",
      "execution_count": 53,
      "id": "19575b47-b7af-4127-906e-ab289b394737",
      "metadata": {},
      "outputs": [
        {
          "name": "stdout",
          "output_type": "stream",
          "text": [
            "R$ 548,6 milhões\n"
          ]
        }
      ],
      "source": [
        "input_question = \"Qual foi o EBITDA em 4T23? \"\n",
        "\n",
        "prompt_text = f\"\"\"\n",
        "Você é um assistente responsável por responder perguntas com base em um contexto fornecido. \n",
        "Este é seu contexto: {resultado_ocr}.\n",
        "Pergunta: {input_question} \n",
        "Resposta:\n",
        "\"\"\"\n",
        "\n",
        "\n",
        "result = model_gen_ai.generate_text(prompt=prompt_text)\n",
        "\n",
        "print(result)"
      ]
    }
  ],
  "metadata": {
    "kernelspec": {
      "display_name": "env",
      "language": "python",
      "name": "python3"
    },
    "language_info": {
      "codemirror_mode": {
        "name": "ipython",
        "version": 3
      },
      "file_extension": ".py",
      "mimetype": "text/x-python",
      "name": "python",
      "nbconvert_exporter": "python",
      "pygments_lexer": "ipython3",
      "version": "3.12.4"
    },
    "orig_nbformat": 4
  },
  "nbformat": 4,
  "nbformat_minor": 2
}
